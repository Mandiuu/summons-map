{
 "cells": [
  {
   "cell_type": "code",
   "execution_count": 2,
   "metadata": {},
   "outputs": [],
   "source": [
    "import pandas as pd"
   ]
  },
  {
   "cell_type": "code",
   "execution_count": 9,
   "metadata": {},
   "outputs": [
    {
     "name": "stdout",
     "output_type": "stream",
     "text": [
      "<class 'pandas.core.frame.DataFrame'>\n",
      "RangeIndex: 106529 entries, 0 to 106528\n",
      "Data columns (total 23 columns):\n",
      " #   Column                  Non-Null Count   Dtype  \n",
      "---  ------                  --------------   -----  \n",
      " 0   SUMMONS_KEY             106529 non-null  int64  \n",
      " 1   SUMMONS_DATE            106529 non-null  object \n",
      " 2   OFFENSE_DESCRIPTION     106529 non-null  object \n",
      " 3   LAW_SECTION_NUMBER      101485 non-null  object \n",
      " 4   LAW_DESCRIPTION         101485 non-null  object \n",
      " 5   SUMMONS_CATEGORY_TYPE   101485 non-null  object \n",
      " 6   AGE_GROUP               101485 non-null  object \n",
      " 7   SEX                     101485 non-null  object \n",
      " 8   RACE                    101485 non-null  object \n",
      " 9   JURISDICTION_CODE       101485 non-null  float64\n",
      " 10  BORO                    101485 non-null  object \n",
      " 11  PRECINCT_OF_OCCUR       101485 non-null  float64\n",
      " 12  X_COORDINATE_CD         101485 non-null  float64\n",
      " 13  Y_COORDINATE_CD         101485 non-null  float64\n",
      " 14  Latitude                101485 non-null  object \n",
      " 15  Longitude               101485 non-null  object \n",
      " 16  Lon_Lat                 101485 non-null  object \n",
      " 17  Zip Codes               100953 non-null  float64\n",
      " 18  Community Districts     101458 non-null  float64\n",
      " 19  Borough Boundaries      101459 non-null  float64\n",
      " 20  City Council Districts  101458 non-null  float64\n",
      " 21  Police Precincts        101458 non-null  float64\n",
      " 22  CATEGORY                101485 non-null  object \n",
      "dtypes: float64(9), int64(1), object(13)\n",
      "memory usage: 18.7+ MB\n"
     ]
    }
   ],
   "source": [
    "# Load the CSV file with the correct delimiter\n",
    "file_path = 'yes_2023_corr.csv'\n",
    "\n",
    "# Read the file with the correct delimiter\n",
    "data = pd.read_csv(file_path, delimiter=';')\n",
    "\n",
    "# Display the first few rows and data information to ensure it's correctly loaded\n",
    "data.head(), data.info()\n",
    "\n",
    "# Save the corrected CSV file\n",
    "corrected_file_path = '2023.csv'\n",
    "data.to_csv(corrected_file_path, index=False)\n"
   ]
  },
  {
   "cell_type": "code",
   "execution_count": null,
   "metadata": {},
   "outputs": [],
   "source": [
    "import pandas as pd\n",
    "\n",
    "# Function to clean the coordinate values\n",
    "def clean_coordinate(coord):\n",
    "    if coord is None:\n",
    "        return None\n",
    "    # Remove periods within numbers, leaving only one period\n",
    "    cleaned = coord.replace('.', '', coord.count('.') - 1)\n",
    "    return float(cleaned)\n",
    "\n",
    "# Load the dataset\n",
    "file_path = '2018.csv'\n",
    "data_2018 = pd.read_csv(file_path)\n",
    "\n",
    "# Clean the Latitude and Longitude columns\n",
    "data_2018['Latitude'] = data_2018['Latitude'].apply(clean_coordinate)\n",
    "data_2018['Longitude'] = data_2018['Longitude'].apply(clean_coordinate)\n",
    "\n",
    "# Display the cleaned Latitude and Longitude values\n",
    "data_2018[['Latitude', 'Longitude']].head()\n",
    "\n",
    "# Save the cleaned dataset\n",
    "cleaned_file_path = '2018cleaned.csv'\n",
    "data_2018.to_csv(cleaned_file_path, index=False)\n",
    "\n",
    "cleaned_file_path\n"
   ]
  }
 ],
 "metadata": {
  "kernelspec": {
   "display_name": "Python 3",
   "language": "python",
   "name": "python3"
  },
  "language_info": {
   "codemirror_mode": {
    "name": "ipython",
    "version": 3
   },
   "file_extension": ".py",
   "mimetype": "text/x-python",
   "name": "python",
   "nbconvert_exporter": "python",
   "pygments_lexer": "ipython3",
   "version": "3.11.6"
  }
 },
 "nbformat": 4,
 "nbformat_minor": 2
}
